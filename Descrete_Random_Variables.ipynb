{
  "cells": [
    {
      "cell_type": "markdown",
      "source": [
        "#Question\n",
        "# 1) Take any suitable pmf and find Expected value and variance\n",
        "# 2) Take any suitable joint pmf and find Expected value and variance"
      ],
      "metadata": {
        "id": "BGvqaFJTpNJb"
      }
    },
    {
      "cell_type": "code",
      "execution_count": 1,
      "metadata": {
        "id": "l1IPgJRHoFdE"
      },
      "outputs": [],
      "source": [
        "'''\n",
        "Import here useful libraries\n",
        "Run this cell first for convenience\n",
        "'''\n",
        "# Import here useful libraries\n",
        "import numpy as np\n",
        "from scipy import stats\n",
        "import scipy\n",
        "import warnings\n",
        "from sympy import symbols\n",
        "from sympy import integrate\n",
        "warnings.simplefilter('ignore', DeprecationWarning)"
      ]
    },
    {
      "cell_type": "markdown",
      "metadata": {
        "id": "bmI2mPaUoFdH"
      },
      "source": [
        "# Random Variables"
      ]
    },
    {
      "cell_type": "markdown",
      "metadata": {
        "id": "Sup-ZHBdoFdJ"
      },
      "source": [
        "## Discrete Random Variable"
      ]
    },
    {
      "cell_type": "markdown",
      "metadata": {
        "id": "fV05wR9qoFdJ"
      },
      "source": [
        "### Definition of a Random Variable"
      ]
    },
    {
      "cell_type": "markdown",
      "metadata": {
        "id": "LnsateQKoFdJ"
      },
      "source": [
        "- Random variable $X$: mapping from sample space $S$ to a real line $R$\n",
        "- Numerical value $X(w)$ mapped to each outcome $w$ of a particular experiment"
      ]
    },
    {
      "cell_type": "markdown",
      "metadata": {
        "id": "juybiPtKoFdK"
      },
      "source": [
        "### Probability Mass Function"
      ]
    },
    {
      "cell_type": "markdown",
      "metadata": {
        "id": "JieC275yoFdK"
      },
      "source": [
        "- Probability Mass Function (p.m.f.): set of probability values $p_i$ assigned to each value taken by the discrete random variable $x_i$\n",
        "- $ 0 \\leq p_i \\leq 1 \\text{ and } \\sum_i p_i = 1$\n",
        "- Probability: $P(X = x_i) = p_i$"
      ]
    },
    {
      "cell_type": "markdown",
      "metadata": {
        "id": "U_yqVnV-oFdK"
      },
      "source": [
        "### Cumulative Distribution Function"
      ]
    },
    {
      "cell_type": "markdown",
      "metadata": {
        "id": "xUa8Et8BoFdK"
      },
      "source": [
        "- Cumulative Distribution Function (CDF): $F(x) = P(X \\leq x)$"
      ]
    },
    {
      "cell_type": "code",
      "execution_count": 2,
      "metadata": {
        "colab": {
          "base_uri": "https://localhost:8080/"
        },
        "id": "B2brQpr6oFdL",
        "outputId": "382bc2f5-c1fd-4675-f3bd-2b6e50b5ac9b"
      },
      "outputs": [
        {
          "output_type": "stream",
          "name": "stdout",
          "text": [
            "Result and error:  (0.9999999999999989, 1.1102230246251553e-14)\n"
          ]
        }
      ],
      "source": [
        "# Verify if provided function is a probability density function\n",
        "# Parameters\n",
        "a = 2\n",
        "b = 1\n",
        "x_i = 49.5 # Integration from x_i to x_f\n",
        "x_f = 50.5\n",
        "from scipy.integrate import quad\n",
        "def integrand(x, a, b):\n",
        "    return 1.5 - 6*(x - 50)**2\n",
        "I = quad(integrand, x_i, x_f, args=(a,b))\n",
        "print(\"Result and error: \", I)"
      ]
    },
    {
      "cell_type": "markdown",
      "metadata": {
        "id": "ZQqbk0rgoFdM"
      },
      "source": [
        "### Cumulative Distribution Function\n"
      ]
    },
    {
      "cell_type": "markdown",
      "metadata": {
        "id": "pgCZGiADoFdN"
      },
      "source": [
        "- Cumulative Distribution Function for continuous Random Variables:\n",
        "    - $F(x) = \\int_{-\\infty}^x f(y) dy$\n",
        "    - $f(x) = \\frac{dF(x)}{dx}$\n",
        "    - $P(a < X < b) = F(b) - F(a)$\n",
        "    - $P(a < X < b) = P(a \\leq X \\leq b) = P(a \\leq X < b) = P(a < X \\leq b)$"
      ]
    },
    {
      "cell_type": "markdown",
      "metadata": {
        "id": "fPZ5xUkloFdN"
      },
      "source": [
        "## Expectation of a Random Variable"
      ]
    },
    {
      "cell_type": "markdown",
      "metadata": {
        "id": "BNX5E5CcoFdN"
      },
      "source": [
        "### Expectations of Discrete Random Variables"
      ]
    },
    {
      "cell_type": "markdown",
      "metadata": {
        "id": "Pd0xYkbuoFdN"
      },
      "source": [
        "- Expectation of a discrete random variable $X$ with p.m.f. $p$:\n",
        "\\begin{equation}\n",
        "    E(X) = \\sum_i p_i x_i\n",
        "\\end{equation}"
      ]
    },
    {
      "cell_type": "code",
      "execution_count": null,
      "metadata": {
        "id": "0t7sPP-boFdN",
        "outputId": "f306ba37-1449-4803-a365-ad90c3c7a3be"
      },
      "outputs": [
        {
          "name": "stdout",
          "output_type": "stream",
          "text": [
            "Expected value:  23.0\n"
          ]
        }
      ],
      "source": [
        "from scipy.stats import rv_discrete\n",
        "\n",
        "x = [10, 20, 30]\n",
        "p = [0.2, 0.3, 0.5]\n",
        "distribution = rv_discrete(values=(x, p))\n",
        "print(\"Expected value: \", distribution.expect())"
      ]
    },
    {
      "cell_type": "markdown",
      "metadata": {
        "id": "0IDOVBXGoFdP"
      },
      "source": [
        "## Variance of a Random Variable"
      ]
    },
    {
      "cell_type": "markdown",
      "metadata": {
        "id": "za91GL1SoFdP"
      },
      "source": [
        "### Definition and Interpretation of Variance"
      ]
    },
    {
      "cell_type": "markdown",
      "metadata": {
        "id": "idtKQ45ioFdP"
      },
      "source": [
        "- Variance ($ \\sigma ^2$): $Var(X) = E(X - E(X))^2 = E(X^2) - \\mu ^2$\n",
        "- Positive quantity measuring the spread of the distribution about its mean value\n",
        "- Standard Deviation($\\sigma$): $\\sqrt{Var(x)}$"
      ]
    },
    {
      "cell_type": "code",
      "execution_count": null,
      "metadata": {
        "id": "xMw3jvDCoFdP",
        "outputId": "639d1200-03bc-43f0-eec4-60c4a27f7287"
      },
      "outputs": [
        {
          "name": "stdout",
          "output_type": "stream",
          "text": [
            "Variance:  61.0\n",
            "Standard Deviation:  7.810249675906654\n"
          ]
        }
      ],
      "source": [
        "from scipy.stats import rv_discrete\n",
        "\n",
        "x = [10, 20, 30]\n",
        "p = [0.2, 0.3, 0.5]\n",
        "distribution = rv_discrete(values=(x, p))\n",
        "print(\"Variance: \", distribution.var())\n",
        "print(\"Standard Deviation: \", distribution.std())"
      ]
    },
    {
      "cell_type": "markdown",
      "metadata": {
        "id": "9AyCIGjkoFdT"
      },
      "source": [
        "## Jointly Distributed Random Variables"
      ]
    },
    {
      "cell_type": "markdown",
      "metadata": {
        "id": "OLo5BKynoFdT"
      },
      "source": [
        "### Joint Probability Distributions"
      ]
    },
    {
      "cell_type": "markdown",
      "metadata": {
        "id": "7H5Xk31uoFdT"
      },
      "source": [
        "- Discrete:\n",
        "\\begin{equation}   \n",
        "    P(X = x_i, Y = y_j) = p_{ij} \\geq 0 \\text{ satisfying } \\sum_i \\sum_j p_{ij} = 1\n",
        "\\end{equation}\n",
        "\n"
      ]
    },
    {
      "cell_type": "markdown",
      "metadata": {
        "id": "BIptQs3WoFdU"
      },
      "source": [
        "- Joint Cumulative Distribution Function:\n",
        "\\begin{equation}   \n",
        "    F(x,y) = P(X \\leq x_j, Y \\leq y_j)\n",
        "\\end{equation}\n",
        "    - Discrete:\n",
        "    \\begin{equation}   \n",
        "        F(x,y) = \\sum_{i:x_i \\leq x} \\sum_{j:y_j \\leq y} p_{ij}\n",
        "    \\end{equation}\n"
      ]
    },
    {
      "cell_type": "markdown",
      "metadata": {
        "id": "zmOnMfhroFdU"
      },
      "source": [
        "### Marginal Probability Distributions"
      ]
    },
    {
      "cell_type": "markdown",
      "metadata": {
        "id": "_ShNnlqFoFdU"
      },
      "source": [
        "- Marginal probability distribution: obtained by summing or integrating the joint probability distribution over the values of the other random variable\n",
        "    - Discrete:\n",
        "    \\begin{equation}   \n",
        "        P(X = x_i) = p_{i+} = \\sum_j p_{ij}\n",
        "    \\end{equation}\n"
      ]
    },
    {
      "cell_type": "code",
      "source": [
        "# Calculate the Expectation and variance for discrete random variables\n",
        "\n",
        "# Input X and Y are in a table with corresponding probabilities\n",
        "value_x = np.array([1, 2, 3])\n",
        "value_y = np.array([1, 2, 3, 4])\n",
        "prob_matrix = np.array([[0.12, 0.08, 0.07, 0.05], [0.08, 0.15, 0.21, 0.13], [0.01, 0.01, 0.02, 0.07]]) # Covariance matrix\n",
        "\n",
        "# Expectation of x\n",
        "exp_x =  0\n",
        "for i in range(len(value_x)):\n",
        "    exp_x += value_x[i] * np.sum(prob_matrix, axis=1)[i]\n",
        "print(\"Expectation of x: \", exp_x)\n",
        "\n",
        "# Expectation of y\n",
        "exp_y = 0\n",
        "for i in range(len(value_y)):\n",
        "    exp_y += value_y[i] * np.sum(prob_matrix, axis=0)[i]\n",
        "print(\"Expectation of y: \", exp_y)\n",
        "\n",
        "# Variance of x\n",
        "exp_x2 = 0\n",
        "for i in range(len(value_x)):\n",
        "    exp_x2 += (value_x[i] ** 2) * np.sum(prob_matrix, axis=1)[i]\n",
        "var_x = exp_x2 - (exp_x ** 2)\n",
        "print(\"Variance of x: \", var_x)\n",
        "\n",
        "# Variance of y\n",
        "exp_y2 = 0\n",
        "for i in range(len(value_y)):\n",
        "    exp_y2 += (value_y[i] ** 2) * np.sum(prob_matrix, axis=0)[i]\n",
        "var_y = exp_y2 - (exp_y ** 2)\n",
        "print(\"Variance of y: \", var_y)"
      ],
      "metadata": {
        "colab": {
          "base_uri": "https://localhost:8080/"
        },
        "id": "k07JPCWoqjKq",
        "outputId": "3a6e2fe8-6e79-4d6b-9870-6e5d8132afbd"
      },
      "execution_count": 3,
      "outputs": [
        {
          "output_type": "stream",
          "name": "stdout",
          "text": [
            "Expectation of x:  1.79\n",
            "Expectation of y:  2.59\n",
            "Variance of x:  0.3858999999999999\n",
            "Variance of y:  1.161900000000001\n"
          ]
        }
      ]
    }
  ],
  "metadata": {
    "kernelspec": {
      "display_name": "Python 3",
      "language": "python",
      "name": "python3"
    },
    "language_info": {
      "codemirror_mode": {
        "name": "ipython",
        "version": 3
      },
      "file_extension": ".py",
      "mimetype": "text/x-python",
      "name": "python",
      "nbconvert_exporter": "python",
      "pygments_lexer": "ipython3",
      "version": "3.8.5"
    },
    "toc-autonumbering": true,
    "toc-showcode": false,
    "toc-showmarkdowntxt": false,
    "toc-showtags": false,
    "colab": {
      "provenance": []
    }
  },
  "nbformat": 4,
  "nbformat_minor": 0
}